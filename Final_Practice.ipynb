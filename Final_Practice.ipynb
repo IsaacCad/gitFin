{
 "cells": [
  {
   "cell_type": "markdown",
   "metadata": {},
   "source": [
    "### Question 1 post an image\n",
    "![image time log](Final_Project/picture.png)"
   ]
  },
  {
   "cell_type": "markdown",
   "metadata": {},
   "source": [
    "<img src=\"Fina;_Practice/picture.png\",width=60,height=60>  \n",
    "### Question 2   show system log\n"
   ]
  },
  {
   "cell_type": "code",
   "execution_count": 2,
   "metadata": {},
   "outputs": [
    {
     "name": "stdout",
     "output_type": "stream",
     "text": [
      "[1] \"USER       PID %CPU %MEM    VSZ   RSS TTY      STAT START   TIME COMMAND\"                                                                                                                                                  \n",
      "[2] \"jovyan       1  0.0  0.0   4364   724 ?        Ss   03:22   0:00 tini -- start-notebook.sh\"                                                                                                                                \n",
      "[3] \"jovyan       5  0.2  6.1 357596 62188 ?        Sl   03:22   0:01 /opt/conda/bin/python /opt/conda/bin/jupyter-notebook\"                                                                                                    \n",
      "[4] \"jovyan      28  0.1  4.9 252152 50076 ?        Ssl  03:27   0:00 /opt/conda/lib/R/bin/exec/R --slave -e IRkernel::main() --args /home/jovyan/.local/share/jupyter/runtime/kernel-f7696296-423d-4801-92ac-bb5e7ac378b4.json\"\n",
      "[5] \"jovyan      41  0.1  5.5 320624 55836 ?        Ssl  03:30   0:00 /opt/conda/lib/R/bin/exec/R --slave -e IRkernel::main() --args /home/jovyan/.local/share/jupyter/runtime/kernel-4adb166f-958c-401f-ad53-57f219d70815.json\"\n",
      "[6] \"jovyan      54  0.0  0.0   4504   784 ?        S    03:35   0:00 sh -c ps -aux\"                                                                                                                                            \n",
      "[7] \"jovyan      55  0.0  0.3  36084  3228 ?        R    03:35   0:00 ps -aux\"                                                                                                                                                  \n"
     ]
    }
   ],
   "source": [
    "print(system(\"ps -aux\", intern = TRUE))\n"
   ]
  },
  {
   "cell_type": "markdown",
   "metadata": {},
   "source": [
    "### Question 3: How can this command be Interpreted to show how long your system has been running?  \n",
    "Answer 3: ps -aux is a command that will show all the active processes for all users/owners. We can look at the start time of these systems and figure out how long the system has been running.\n",
    "\n",
    "\n"
   ]
  },
  {
   "cell_type": "markdown",
   "metadata": {},
   "source": [
    "### Extra info  Question 3\n",
    "a = show processes for all users , \n",
    "          An alternate \n",
    "          description is that this option causes ps to list all processes   \n",
    "          with a terminal (tty), or to list all processes when used together   \n",
    "          with the x option.  \n",
    "u = display the process's user/owner  \n",
    "x = also show processes not attached to a terminal    \n",
    "\n",
    "According to the Man page  \n",
    "ps displays information about a selection of the active processes.  If you want a repetitive update of the\n",
    "       selection and the displayed information, use top(1) instead.\n",
    "       1   UNIX options, which may be grouped and must be preceded by a dash\n",
    "\n",
    "\n",
    "       Note that \"ps -aux\" is distinct from \"ps aux\".  The POSIX and UNIX standards require that \"ps -aux\" print all\n",
    "       processes owned by a user named \"x\", as well as printing all processes that would be selected by the -a option.\n",
    "       If the user named \"x\" does not exist, this ps may interpret the command as \"ps aux\" instead and print a warning."
   ]
  },
  {
   "cell_type": "markdown",
   "metadata": {},
   "source": [
    "### Question 4:  Given the Vector x find its length and magnitude\n",
    "\n",
    "Where the vector $\\mathbf{x} = (x_1,..., x_9) = (x, y)$.  \n",
    "\n",
    "&nbsp;\n",
    "\n",
    "Where the vector $\\mathbf{x} = (2,5,3,6,2,7,4,5,6) = (x, y)$.\n",
    "\n",
    "&nbsp;\n",
    "\n",
    "\n",
    "&nbsp;\n"
   ]
  },
  {
   "cell_type": "code",
   "execution_count": null,
   "metadata": {},
   "outputs": [],
   "source": [
    "### Question 4 : Calculating the length AND magnitude of a vector\n",
    "\n",
    "\n",
    "Answer Length of vector : The length of a vector is the number of elements in a vector.  \n",
    "Given a vector $\\mathbf{x} = (2,5,3,6,2,7,4,5,6)$   \n",
    "The length of this vector is **9 **\n",
    "We can calculate the length of a vector using the code length(x)  \n",
    "\n",
    "Answer Magnitude of vector : The magnitude of **x is  14.2828568570857** 14.28286\n",
    "\n"
   ]
  },
  {
   "cell_type": "markdown",
   "metadata": {},
   "source": [
    "### Question 4 : Extra\n",
    "\n",
    "The magnitude of a vector can be calculated with the R `norm` function with an argument of `type=\"2\"`.  \n",
    "\n",
    "You can view it in R2 as the Euclidean distance .   To find the magnitude of a vector from its components, we take the square root of the sum of the components' squares (this is a direct result of the Pythagorean theorem):\n",
    "$$||(x_1,...,x_9)||=\\sqrt{x_1^2+x_2^2+...+x_9^2}∣∣(a,b)∣∣=√\n",
    "​a\n",
    "​2\n",
    "​​ +b\n",
    "​2\n",
    "​​ \n",
    "​\n",
    "​​ $$\n",
    "### Question 5 :Verify answer to ques 4\n"
   ]
  },
  {
   "cell_type": "code",
   "execution_count": 21,
   "metadata": {},
   "outputs": [
    {
     "name": "stdout",
     "output_type": "stream",
     "text": [
      "[1] 9\n",
      "[1] 14.28286\n"
     ]
    }
   ],
   "source": [
    "x <- c(2,5,3,6,2,7,4,5,6)\n",
    "print(length(x))\n",
    "print(norm(x, type=\"2\"))"
   ]
  },
  {
   "cell_type": "markdown",
   "metadata": {},
   "source": []
  },
  {
   "cell_type": "code",
   "execution_count": 42,
   "metadata": {},
   "outputs": [
    {
     "name": "stdout",
     "output_type": "stream",
     "text": [
      "[1] \"the slope is \"\n",
      "[1] 0.5\n",
      "[1] \"here we want to find 4=0.5(3)+Unknown aka 4-(0.5*3)\"\n",
      "[1] 2.5\n"
     ]
    }
   ],
   "source": [
    "x <- c(3,4)\n",
    "y<- c(-1,2)\n",
    "d <- matrix(c(3,-1,4,2),2,2)\n",
    "m = ((x[2])- (y[2]))/((x[1])- (y[1]))\n",
    "print (\"the slope is \")\n",
    "print(m)\n",
    "print(\"here we want to find 4=0.5(3)+Unknown aka 4-(0.5*3)\")\n",
    "a=(x[2]-(x[1]*0.5))\n",
    "print(solve(1,a))\n"
   ]
  },
  {
   "cell_type": "code",
   "execution_count": null,
   "metadata": {},
   "outputs": [],
   "source": []
  },
  {
   "cell_type": "markdown",
   "metadata": {},
   "source": [
    "You should think of this as a **mapping** $x \\mapsto y$ or the **function** $f(x)=y$.\n",
    "\n",
    "We can use R to model a linear function of two variables.  \n",
    "$$y = mx+b$$  \n",
    "\n",
    "$$||(x_1,...,x_9)||=\\sqrt{x_1^2+x_2^2+...+x_9^2}∣∣(a,b)∣∣=√\n",
    "​a\n",
    "​2\n",
    "​​ +b\n",
    "​2\n",
    "​​ \n",
    "​\n",
    "​​ $$"
   ]
  },
  {
   "cell_type": "markdown",
   "metadata": {},
   "source": []
  },
  {
   "cell_type": "code",
   "execution_count": null,
   "metadata": {},
   "outputs": [],
   "source": []
  }
 ],
 "metadata": {
  "celltoolbar": "Raw Cell Format",
  "kernelspec": {
   "display_name": "R",
   "language": "R",
   "name": "ir"
  },
  "language_info": {
   "codemirror_mode": "r",
   "file_extension": ".r",
   "mimetype": "text/x-r-source",
   "name": "R",
   "pygments_lexer": "r",
   "version": "3.3.2"
  }
 },
 "nbformat": 4,
 "nbformat_minor": 2
}
